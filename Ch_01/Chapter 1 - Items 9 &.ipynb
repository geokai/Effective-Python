{
 "cells": [
  {
   "cell_type": "markdown",
   "metadata": {},
   "source": [
    "## Item 9: Consider Generator Expressions for Larger Comprehensions"
   ]
  },
  {
   "cell_type": "markdown",
   "metadata": {},
   "source": [
    "List comprehensions used on large data inputs can consume large amounts of memory and cpu capacity, causing the program to crash."
   ]
  },
  {
   "cell_type": "markdown",
   "metadata": {},
   "source": [
    "For example, say we want to read a file and return the number of characters on each line. Doing this with a _list comprehension_ would require holding the length of wvery line of the file in memory.\n",
    "For large files or never ending network sockets, _list comprehensions_ would be very problematic.\n",
    "The following is a _list comprehension_ handling a relatively small text file."
   ]
  },
  {
   "cell_type": "code",
   "execution_count": 2,
   "metadata": {
    "scrolled": true
   },
   "outputs": [
    {
     "name": "stdout",
     "output_type": "stream",
     "text": [
      "[47, 47, 1, 70, 62, 59, 1, 37, 1, 65, 35, 1, 72, 71, 72, 73, 71, 72, 70, 20, 1, 67, 71, 71, 69, 69, 58, 1, 69, 73, 73, 66, 1, 67, 65, 72, 72, 19, 1, 70, 69, 66, 1, 72, 71, 68, 70, 30, 1, 67, 73, 63, 66, 72, 70, 73, 69, 73, 55, 1, 71, 67, 72, 70, 72, 55, 1, 65, 21, 1, 44, 1, 18, 1, 72, 1, 74, 36, 1, 69, 64, 50, 1, 73, 73, 70, 52, 1, 71, 16, 1, 67, 62, 70, 69, 69, 56, 1, 70, 73, 66, 1, 69, 68, 67, 69, 68, 69, 69, 57, 1, 18, 1, 68, 68, 16, 1, 71, 68, 69, 58, 1, 71, 69, 65, 67, 67, 66, 70, 68, 66, 64, 1, 70, 68, 71, 67, 71, 70, 67, 69, 67, 70, 69, 41, 1, 64, 67, 8, 1, 66, 11, 1, 24, 1, 68, 66, 68, 69, 70, 69, 70, 1, 64, 69, 71, 70, 71, 69, 71, 68, 67, 63, 1, 68, 70, 22, 1, 65, 1, 69, 70, 64, 62, 10, 1, 70, 73, 68, 71, 69, 70, 24, 1, 32, 1, 69, 63, 68, 58, 71, 69, 58, 1, 70, 60, 1, 41, 1, 70, 66, 73, 1, 71, 36, 1, 64, 71, 66, 31, 1, 64, 65, 70, 67, 64, 69, 67, 1, 70, 71, 67, 35, 1, 70, 69, 69, 68, 67, 68, 70, 66, 24, 1, 33, 1, 68, 55, 71, 22, 1, 69, 67, 60, 47, 1, 69, 65, 67, 71, 69, 65, 67, 69, 65, 51, 61, 1, 70, 61, 70, 71, 24, 1, 67, 71, 70, 65, 70, 71, 68, 71, 70, 63, 68, 67, 1, 72, 67, 69, 32, 1, 72, 63, 44, 1, 71, 72, 74, 74, 73, 67, 73, 66, 73, 72, 72, 49, 1, 67, 73, 74, 70, 72, 63, 28, 1, 71, 69, 70, 68, 69, 69, 70, 66, 68, 24, 1, 73, 73, 72, 74, 66, 73, 48, 1, 72, 65, 66, 67, 31, 1, 23, 1, 71, 65, 71, 71, 69, 68, 68, 59, 1, 67, 70, 65, 67, 68, 65, 1, 72, 74, 64, 1, 71, 52, 1, 71, 69, 49, 1, 72, 67, 63, 1, 72, 32, 1, 69, 50, 1, 66, 73, 72, 72, 33, 1, 68, 71, 69, 61, 71, 70, 70, 69, 43, 1, 70, 61, 67, 36, 1, 71, 63, 41, 1, 18, 1, 69, 68, 70, 68, 26, 1, 65, 61, 68, 71, 69, 38, 1, 63, 67, 68, 70, 68, 28, 1, 71, 70, 71, 68, 27, 1, 48, 1, 69, 68, 69, 66, 70, 69, 67, 69, 1, 52, 1, 67, 67, 71, 61, 1, 70, 68, 69, 60, 67, 70, 69, 70, 62, 1, 69, 69, 67, 71, 69, 70, 53, 1, 15, 1, 70, 69, 70, 1, 66, 68, 70, 71, 60, 69, 67, 67, 14, 1, 71, 67, 70, 51, 1, 71, 70, 71, 69, 69, 26, 1, 71, 69, 71, 69, 65, 68, 69, 71, 70, 70, 71, 70, 51, 1, 64, 68, 64, 70, 71, 69, 28, 1, 69, 60, 70, 71, 69, 71, 69, 64, 70, 65, 69, 66, 68, 60, 1, 70, 63, 59, 1, 39, 1, 73, 71, 72, 73, 75, 76, 73, 70, 65, 1, 54, 1, 64, 68, 71, 68, 70, 71, 71, 21, 1, 40, 1, 74, 74, 73, 34, 1, 65, 69, 66, 69, 63, 69, 70, 33, 1, 64, 69, 71, 40, 1, 62, 68, 68, 15, 1, 30, 1, 67, 71, 74, 73, 71, 75, 73, 47, 1, 31, 1, 72, 74, 76, 73, 74, 75, 73, 74, 14, 1, 44, 1, 69, 67, 70, 65, 68, 41, 1, 49, 1, 58, 1, 70, 71, 76, 1, 71, 68, 68, 70, 1, 76, 43, 1, 73, 73, 70, 40, 1, 68, 67, 66, 49, 1, 70, 75, 1, 73, 1, 67, 56, 1, 54, 79, 66, 57, 1, 76, 73, 71, 1, 77, 72, 75, 33, 1, 76, 73, 76, 73, 64, 50]\n"
     ]
    }
   ],
   "source": [
    "value = [len(x) for x in open('gpl.txt')]\n",
    "print(value)"
   ]
  },
  {
   "cell_type": "markdown",
   "metadata": {},
   "source": [
    "An alternative solution is to use _generator expressions_, a generalization of _list comprehensions_ generators.\n",
    "Generators don't materialize the whole output sequence when you're run. They instead produce an iterator object that yields  one item at a time from the expression.\n",
    "the syntax is similar to _list comprehensions_ except that the epression is placed within () characters."
   ]
  },
  {
   "cell_type": "code",
   "execution_count": 8,
   "metadata": {},
   "outputs": [
    {
     "name": "stdout",
     "output_type": "stream",
     "text": [
      "<generator object <genexpr> at 0x7fd184a620d0>\n"
     ]
    }
   ],
   "source": [
    "it = (len(x) for x in open('gpl.txt'))\n",
    "print(it)"
   ]
  },
  {
   "cell_type": "markdown",
   "metadata": {},
   "source": [
    "The returned iterator can be advanced one step at a time to produce the next output from the generator expression as needed using the _next_ built-in function.\n",
    "Memory use is kept to a minimum as the iterator produces only one item a t a time and for as long as you request the next item."
   ]
  },
  {
   "cell_type": "code",
   "execution_count": 7,
   "metadata": {},
   "outputs": [
    {
     "name": "stdout",
     "output_type": "stream",
     "text": [
      "47\n",
      "47\n",
      "1\n"
     ]
    }
   ],
   "source": [
    "print(next(it))\n",
    "print(next(it))\n",
    "print(next(it))"
   ]
  },
  {
   "cell_type": "markdown",
   "metadata": {},
   "source": [
    "_generators_ can be used together to produce combined outcomes.\n",
    "Here we use the _generator_ used above as the input for another _generator_."
   ]
  },
  {
   "cell_type": "code",
   "execution_count": 11,
   "metadata": {},
   "outputs": [],
   "source": [
    "roots = ((x, x**0.5) for x in it)"
   ]
  },
  {
   "cell_type": "code",
   "execution_count": 12,
   "metadata": {},
   "outputs": [
    {
     "name": "stdout",
     "output_type": "stream",
     "text": [
      "(47, 6.855654600401044)\n",
      "(1, 1.0)\n",
      "(70, 8.366600265340756)\n"
     ]
    }
   ],
   "source": [
    "print(next(roots))\n",
    "print(next(roots))\n",
    "print(next(roots))"
   ]
  },
  {
   "cell_type": "markdown",
   "metadata": {},
   "source": [
    "These chained generators execute very quickly in python. This is very usefull for large and constant streams of data processing.\n",
    "One major cavet is that the iterator returned by generators are stateful, so they can only be consumed once."
   ]
  },
  {
   "cell_type": "markdown",
   "metadata": {},
   "source": [
    "##### Things to remember"
   ]
  },
  {
   "cell_type": "markdown",
   "metadata": {},
   "source": [
    "- _list comprehensions_ can be problematic with large data or continuous data streams.\n",
    "- Generator expressions avoid memory issues by producing outputs one at a time as an iterator.\n",
    "- Generator expressions can be composed by passing the iterator from one generator expression into the _for_ subexpression of another.\n",
    "- Generator expressions execute very quickly when chained together."
   ]
  },
  {
   "cell_type": "markdown",
   "metadata": {},
   "source": [
    "---"
   ]
  },
  {
   "cell_type": "markdown",
   "metadata": {},
   "source": [
    "## Item 10: Prefer _enumerate_ Over _range_"
   ]
  },
  {
   "cell_type": "markdown",
   "metadata": {},
   "source": [
    "The _range_ built-in function is useful for loops that iterate over a set of integers."
   ]
  },
  {
   "cell_type": "code",
   "execution_count": 76,
   "metadata": {},
   "outputs": [
    {
     "name": "stdout",
     "output_type": "stream",
     "text": [
      "821403141336220275\n",
      "30\n"
     ]
    }
   ],
   "source": [
    "from random import randint\n",
    "random_bits = 0\n",
    "count = 0\n",
    "for i in range(64):\n",
    "    if randint(0, 1):\n",
    "        random_bits |= 1 << i\n",
    "        count += 1\n",
    "\n",
    "print(random_bits)\n",
    "print(count)"
   ]
  },
  {
   "cell_type": "markdown",
   "metadata": {},
   "source": [
    "A popular method of iterating over a collection and refering to the index is to use _range(len(seq))_ ."
   ]
  },
  {
   "cell_type": "code",
   "execution_count": 77,
   "metadata": {},
   "outputs": [
    {
     "name": "stdout",
     "output_type": "stream",
     "text": [
      "1: vanilla\n",
      "2: chocolate\n",
      "3: pecan\n",
      "4: strawberry\n"
     ]
    }
   ],
   "source": [
    "flavour_list = ['vanilla', 'chocolate', 'pecan', 'strawberry']\n",
    "\n",
    "for i in range(len(flavour_list)):\n",
    "    flavour = flavour_list[i]\n",
    "    print('%d: %s' % (i + 1, flavour))"
   ]
  },
  {
   "cell_type": "markdown",
   "metadata": {},
   "source": [
    "This looks clumsy ans also adds extra functions that can be avoided. Additionally, you have to get the length of the array and index into it. It is also visually noisy."
   ]
  },
  {
   "cell_type": "markdown",
   "metadata": {},
   "source": [
    "The built-in _enumerate_ function will iterate through the iterator with a lazy generator. This generator yields pairs of the loop index and the next value from the iterator. The resulting code is much clearer."
   ]
  },
  {
   "cell_type": "code",
   "execution_count": 78,
   "metadata": {},
   "outputs": [
    {
     "name": "stdout",
     "output_type": "stream",
     "text": [
      "1: vanilla\n",
      "2: chocolate\n",
      "3: pecan\n",
      "4: strawberry\n"
     ]
    }
   ],
   "source": [
    "for i, flavour in enumerate(flavour_list):\n",
    "    print('%d: %s' % (i + 1, flavour))"
   ]
  },
  {
   "cell_type": "markdown",
   "metadata": {},
   "source": [
    "This can be made even shorter by specifying the index start number setting the _start_ keyword argument (1 in this case)."
   ]
  },
  {
   "cell_type": "code",
   "execution_count": 79,
   "metadata": {},
   "outputs": [
    {
     "name": "stdout",
     "output_type": "stream",
     "text": [
      "1: vanilla\n",
      "2: chocolate\n",
      "3: pecan\n",
      "4: strawberry\n"
     ]
    }
   ],
   "source": [
    "for i, flavour in enumerate(flavour_list, 1):\n",
    "    print('%d: %s' % (i, flavour))"
   ]
  },
  {
   "cell_type": "markdown",
   "metadata": {},
   "source": [
    "##### Things to remember"
   ]
  },
  {
   "cell_type": "markdown",
   "metadata": {},
   "source": [
    "- _enumerate_ provides consice syntax for looping over an iterator and getting the index from the iterator as you go.\n",
    "- Prefer _enumerate_ instead of looping over a _range_ and indexing into a sequence.\n",
    "- The _enumerate_ function has the keyword argument _start=0_ by default. This can be set to any integer as the starting index of the sequence."
   ]
  },
  {
   "cell_type": "markdown",
   "metadata": {},
   "source": [
    "---"
   ]
  },
  {
   "cell_type": "markdown",
   "metadata": {},
   "source": [
    "## Item 11: Use _zip_ to Process Iterators in Parallel"
   ]
  }
 ],
 "metadata": {
  "kernelspec": {
   "display_name": "Python 3",
   "language": "python",
   "name": "python3"
  },
  "language_info": {
   "codemirror_mode": {
    "name": "ipython",
    "version": 3
   },
   "file_extension": ".py",
   "mimetype": "text/x-python",
   "name": "python",
   "nbconvert_exporter": "python",
   "pygments_lexer": "ipython3",
   "version": "3.7.4"
  }
 },
 "nbformat": 4,
 "nbformat_minor": 2
}
