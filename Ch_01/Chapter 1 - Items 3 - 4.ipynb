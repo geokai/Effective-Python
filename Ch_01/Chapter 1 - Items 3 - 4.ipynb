{
 "cells": [
  {
   "cell_type": "markdown",
   "metadata": {},
   "source": [
    "### Item 3: Konw the Differnce Between _bytes_, _str_, and _unicode_"
   ]
  },
  {
   "cell_type": "markdown",
   "metadata": {},
   "source": [
    "In Python 3 there are two types theat represent sequences of characters: _bytes_ and _str_."
   ]
  },
  {
   "cell_type": "markdown",
   "metadata": {},
   "source": [
    "Helper functions for converting bytes to str objects and str to bytes objects"
   ]
  },
  {
   "cell_type": "markdown",
   "metadata": {},
   "source": [
    "__Method that takes _str_ or _bytes_ and always returns a _str_ :__"
   ]
  },
  {
   "cell_type": "code",
   "execution_count": 1,
   "metadata": {},
   "outputs": [],
   "source": [
    "def to_str(bytes_or_str):\n",
    "    if isinstance(bytes_or_str, bytes):\n",
    "        value = bytes_or_str.decode('utf-8')\n",
    "    else:\n",
    "        value = bytes_or_str\n",
    "    return value   # Instance of str"
   ]
  },
  {
   "cell_type": "markdown",
   "metadata": {},
   "source": [
    "__Method that takes _bytes_ or _str_ and always returns a _bytes_ :__"
   ]
  },
  {
   "cell_type": "code",
   "execution_count": 2,
   "metadata": {},
   "outputs": [],
   "source": [
    "def to_bytes(bytes_or_str):\n",
    "    if isinstance(bytes_or_str, str):\n",
    "        value = bytes_or_str.encode('utf-8')\n",
    "    else:\n",
    "        value = bytes_or_str\n",
    "    return value   # Instance of bytes"
   ]
  },
  {
   "cell_type": "markdown",
   "metadata": {},
   "source": [
    "This distinction is particularly important when dealing with file handling.\n",
    "The following will raise a _TypeError_ due to the file being a binary type\n",
    "and the file handler defaulting to _utf-8_"
   ]
  },
  {
   "cell_type": "code",
   "execution_count": 3,
   "metadata": {},
   "outputs": [
    {
     "ename": "TypeError",
     "evalue": "write() argument must be str, not bytes",
     "output_type": "error",
     "traceback": [
      "\u001b[0;31m---------------------------------------------------------------------------\u001b[0m",
      "\u001b[0;31mTypeError\u001b[0m                                 Traceback (most recent call last)",
      "\u001b[0;32m<ipython-input-3-090c1279f984>\u001b[0m in \u001b[0;36m<module>\u001b[0;34m\u001b[0m\n\u001b[1;32m      2\u001b[0m \u001b[0;34m\u001b[0m\u001b[0m\n\u001b[1;32m      3\u001b[0m \u001b[0;32mwith\u001b[0m \u001b[0mopen\u001b[0m\u001b[0;34m(\u001b[0m\u001b[0;34m'random.bin'\u001b[0m\u001b[0;34m,\u001b[0m \u001b[0;34m'w'\u001b[0m\u001b[0;34m)\u001b[0m \u001b[0;32mas\u001b[0m \u001b[0mf\u001b[0m\u001b[0;34m:\u001b[0m\u001b[0;34m\u001b[0m\u001b[0;34m\u001b[0m\u001b[0m\n\u001b[0;32m----> 4\u001b[0;31m     \u001b[0mf\u001b[0m\u001b[0;34m.\u001b[0m\u001b[0mwrite\u001b[0m\u001b[0;34m(\u001b[0m\u001b[0mos\u001b[0m\u001b[0;34m.\u001b[0m\u001b[0murandom\u001b[0m\u001b[0;34m(\u001b[0m\u001b[0;36m10\u001b[0m\u001b[0;34m)\u001b[0m\u001b[0;34m)\u001b[0m\u001b[0;34m\u001b[0m\u001b[0;34m\u001b[0m\u001b[0m\n\u001b[0m",
      "\u001b[0;31mTypeError\u001b[0m: write() argument must be str, not bytes"
     ]
    }
   ],
   "source": [
    "import os\n",
    "\n",
    "with open('random.bin', 'w') as f:\n",
    "    f.write(os.urandom(10))"
   ]
  },
  {
   "cell_type": "markdown",
   "metadata": {},
   "source": [
    "To make this work properly, you must indicate that the data must be opened in _write binary_ mode, 'wb'."
   ]
  },
  {
   "cell_type": "code",
   "execution_count": null,
   "metadata": {},
   "outputs": [],
   "source": [
    "import os\n",
    "\n",
    "with open('random.bin', 'wb') as f:\n",
    "    f.write(os.urandom(10))"
   ]
  },
  {
   "cell_type": "markdown",
   "metadata": {},
   "source": [
    "##### Things to remember\n",
    "\n",
    "In python 3, _bytes_ contains sequences of 8-bit values, _str_ contains sequences of _Unicode_ characters.\n",
    "_str_ and _Unicode_ can be used together with operators if the _str_ only contains 7-bit ASCII characters.\n",
    "Use helper functions (to_bytes(), to_str()) to encode/decode character sequences to the correct type.\n",
    "If you wnat to read or write data to/from a file, use the correct file handler mode,'rb' or 'wb'."
   ]
  },
  {
   "cell_type": "markdown",
   "metadata": {},
   "source": [
    " ---"
   ]
  },
  {
   "cell_type": "markdown",
   "metadata": {},
   "source": [
    "### Item 4: Write Helper Functions Instead of Complex Expressions"
   ]
  },
  {
   "cell_type": "markdown",
   "metadata": {},
   "source": [
    "In python, a single line expression can implement a lot of logic which can get hard to read and follow."
   ]
  },
  {
   "cell_type": "code",
   "execution_count": null,
   "metadata": {},
   "outputs": [],
   "source": [
    "from urllib.parse import parse_qs\n",
    "\n",
    "my_values = parse_qs('red=5&blue=0&green=', keep_blank_values=True)\n",
    "print(repr(my_values))"
   ]
  },
  {
   "cell_type": "markdown",
   "metadata": {},
   "source": [
    "Some query string parameters may have multiple values, some single values, some present but blank, and some missing entirely. \n",
    "Using the _get_ method on the result dictionary will return different results in each circumstance."
   ]
  },
  {
   "cell_type": "code",
   "execution_count": null,
   "metadata": {},
   "outputs": [],
   "source": [
    "print('Red:      ', my_values.get('red'))\n",
    "print('Green     ', my_values.get('green'))\n",
    "print('Opacity   ', my_values.get('opacity'))"
   ]
  },
  {
   "cell_type": "markdown",
   "metadata": {},
   "source": [
    "We would like a default of _0_ to be assigned if a parameter isn't supplies of is blank.\n",
    "A boolean expressions can be used becasuse if may feel that this logic doesn't merit a whole _if_ statement or helper function quite yet."
   ]
  },
  {
   "cell_type": "markdown",
   "metadata": {},
   "source": [
    "Using boolean syntax, because an empty string, an empty list, and zero and evaluate to _False_ implicitly."
   ]
  },
  {
   "cell_type": "code",
   "execution_count": null,
   "metadata": {},
   "outputs": [],
   "source": [
    "# for query string 'red=5&blue=0&green='\n",
    "red = my_values.get('red', [''])[0] or 0\n",
    "green = my_values.get('green', [''])[0] or 0\n",
    "opacity = my_values.get('opacity', [''])[0] or 0\n",
    "print('Red:      %r' % red)\n",
    "print('Green:    %r' % green)\n",
    "print('Opacity:  %r' % opacity)"
   ]
  },
  {
   "cell_type": "markdown",
   "metadata": {},
   "source": [
    "The subexpressions are hard to read and also return values of different types. If we want the results to be integers, we will have to add the _int()_ method too, making the expression even harder to read."
   ]
  },
  {
   "cell_type": "code",
   "execution_count": null,
   "metadata": {},
   "outputs": [],
   "source": [
    "red = int(my_values.get('red', [''])[0] or 0)\n",
    "print('Red:      %r' % red)"
   ]
  },
  {
   "cell_type": "markdown",
   "metadata": {},
   "source": [
    "The full _if/else_ conditional"
   ]
  },
  {
   "cell_type": "code",
   "execution_count": null,
   "metadata": {},
   "outputs": [],
   "source": [
    "green = my_values.get('green', [''])\n",
    "if green[0]:\n",
    "    green = int(green[0])\n",
    "else:\n",
    "    green = 0\n",
    "\n",
    "print('Green:      %r' % green)"
   ]
  },
  {
   "cell_type": "markdown",
   "metadata": {},
   "source": [
    "The helper function:"
   ]
  },
  {
   "cell_type": "code",
   "execution_count": null,
   "metadata": {},
   "outputs": [],
   "source": [
    "def get_first_int(values, key, default=0):\n",
    "    found = values.get(key, [''])\n",
    "    if found[0]:\n",
    "        found = int(found[0])\n",
    "    else:\n",
    "        found = default\n",
    "    return found\n",
    "\n",
    "green = get_first_int(my_values, 'green')\n",
    "print(green)"
   ]
  },
  {
   "cell_type": "markdown",
   "metadata": {},
   "source": [
    "##### Things to remember"
   ]
  },
  {
   "cell_type": "markdown",
   "metadata": {},
   "source": [
    "Python's syntax makes it all too easy to write single-line expressions that are overly complicated and difficult to read.\n",
    "Move more complex expressions into helper functions, especially if the logic will be reused repeatedly.\n",
    "The _if/else_ expression provides a more readable alternative to using Boolean operators like _or_ and _and_ in expressions."
   ]
  }
 ],
 "metadata": {
  "kernelspec": {
   "display_name": "Python 3",
   "language": "python",
   "name": "python3"
  },
  "language_info": {
   "codemirror_mode": {
    "name": "ipython",
    "version": 3
   },
   "file_extension": ".py",
   "mimetype": "text/x-python",
   "name": "python",
   "nbconvert_exporter": "python",
   "pygments_lexer": "ipython3",
   "version": "3.7.4"
  }
 },
 "nbformat": 4,
 "nbformat_minor": 2
}
